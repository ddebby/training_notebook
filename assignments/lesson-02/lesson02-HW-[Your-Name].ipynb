{
 "cells": [
  {
   "cell_type": "markdown",
   "metadata": {},
   "source": [
    "<center>\n",
    "    \n",
    "# 人工智能高阶人才培训班\n",
    "## 课程作业（二）"
   ]
  },
  {
   "cell_type": "markdown",
   "metadata": {},
   "source": [
    "---"
   ]
  },
  {
   "cell_type": "markdown",
   "metadata": {},
   "source": [
    "> 💥说明💥\n",
    "> 1. 本次作业最晚提交时间： **<font color='red'>2019年X月X日</font>**\n",
    "> 2. 作业中以`Q-n`标注的几个问题的答案请通过[此处有链接]()连接的Form表格提交，提交中填写的姓名请与本人姓名保持一致；\n",
    "> 3. 以`Lesson02-HW-{你的名字中文}.ipynb`命名的作业文件请参考[文档]()说明提交到Git的代码仓库；\n",
    "> 4. 如果完成作业过程中，你有任何新的想法和解题思路，可以完成一篇分享文档(建议用MarkDown撰写)，将根据质量给予⭐奖励\n",
    "> 5. 🚫 **注意：** 请不要直接编辑该模板文件，建议复制该模板文件生成新的以你自己姓名命名的作业文件（`Lesson02-HW-{你的名字中文}.ipynb`）"
   ]
  },
  {
   "cell_type": "code",
   "execution_count": 2,
   "metadata": {},
   "outputs": [],
   "source": [
    "# 为了所有作业结果的一致性此部分内容不要修改\n",
    "import numpy as np\n"
   ]
  },
  {
   "cell_type": "markdown",
   "metadata": {},
   "source": [
    "### Q1\n",
    "参考课程中使用`numpy`进行数理统计的过程，使用numpy提供的库`random.normal`生成1万个样本\n",
    "\n",
    "使用下表格中华中地区的女性身高数据作为参考源"
   ]
  },
  {
   "cell_type": "markdown",
   "metadata": {},
   "source": [
    "<center>\n",
    "\n",
    "##### 中国成年人身高，体重均值和标准差的参考值 （2015）\n",
    "|性别|东北华北|西北|东南|华中|华南|西南|\n",
    "|-|-|-|-|-|-|-|\n",
    "|身高，体重|均值，标准差|均值，标准差|均值，标准差|均值，标准差|均值，标准差|均值，标准差|\n",
    "|男(mm)|1693, 56.6|1684, 53.7|1686, 55,2|1669, 56.3|1650, 57.1|1647, 56.7|\n",
    "|女(mm)|1586, 51.8|1575, 51.9|1575, 50.8|1560, 50.7|1549, 49.7|1546, 53.9|\n",
    "|男(kg)|64, 8.2|60, 7.6|59, 7.7|57, 6.9|56, 6.9|55, 6.8|\n",
    "|女(kg)|55, 7.1|52, 7.1|51, 7.2|50, 6.8|49, 6.5|50, 6.9|\n",
    "\n",
    "\n",
    "> **注意：**为保证结果的一致性，请每次在你执行随机分布生成之前，使用`np.random.seed(42)`，使用同样的种子生成值"
   ]
  },
  {
   "cell_type": "markdown",
   "metadata": {},
   "source": [
    "#### 问题： 你生成的分布的实际产生的标注差、均值、中位数各是多少？"
   ]
  },
  {
   "cell_type": "code",
   "execution_count": 15,
   "metadata": {},
   "outputs": [],
   "source": [
    "np.random.seed(42)\n",
    "# your code\n",
    "# \n",
    "# "
   ]
  },
  {
   "cell_type": "code",
   "execution_count": null,
   "metadata": {},
   "outputs": [],
   "source": []
  }
 ],
 "metadata": {
  "kernelspec": {
   "display_name": "Python 3",
   "language": "python",
   "name": "python3"
  },
  "language_info": {
   "codemirror_mode": {
    "name": "ipython",
    "version": 3
   },
   "file_extension": ".py",
   "mimetype": "text/x-python",
   "name": "python",
   "nbconvert_exporter": "python",
   "pygments_lexer": "ipython3",
   "version": "3.6.8"
  }
 },
 "nbformat": 4,
 "nbformat_minor": 2
}
